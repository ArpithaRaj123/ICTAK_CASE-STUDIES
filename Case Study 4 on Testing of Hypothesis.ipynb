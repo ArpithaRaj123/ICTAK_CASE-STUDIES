{
 "cells": [
  {
   "cell_type": "markdown",
   "id": "de9d721f",
   "metadata": {},
   "source": [
    "# Case Study on Testing of Hypothesis"
   ]
  },
  {
   "cell_type": "markdown",
   "id": "f7a80cb4",
   "metadata": {},
   "source": [
    "### QUESTION: A company started to invest in digital marketing as a new way of their product promotions.For that they collected data and decided to carry out a study on it."
   ]
  },
  {
   "cell_type": "code",
   "execution_count": 1,
   "id": "c3b4b4e9",
   "metadata": {},
   "outputs": [],
   "source": [
    "#Importing libraries\n",
    "import pandas as pd\n",
    "import scipy.stats as stat"
   ]
  },
  {
   "cell_type": "code",
   "execution_count": 2,
   "id": "4a3254d0",
   "metadata": {},
   "outputs": [
    {
     "data": {
      "text/html": [
       "<div>\n",
       "<style scoped>\n",
       "    .dataframe tbody tr th:only-of-type {\n",
       "        vertical-align: middle;\n",
       "    }\n",
       "\n",
       "    .dataframe tbody tr th {\n",
       "        vertical-align: top;\n",
       "    }\n",
       "\n",
       "    .dataframe thead th {\n",
       "        text-align: right;\n",
       "    }\n",
       "</style>\n",
       "<table border=\"1\" class=\"dataframe\">\n",
       "  <thead>\n",
       "    <tr style=\"text-align: right;\">\n",
       "      <th></th>\n",
       "      <th>Month</th>\n",
       "      <th>Region</th>\n",
       "      <th>Manager</th>\n",
       "      <th>Sales_before_digital_add(in $)</th>\n",
       "      <th>Sales_After_digital_add(in $)</th>\n",
       "    </tr>\n",
       "  </thead>\n",
       "  <tbody>\n",
       "    <tr>\n",
       "      <th>0</th>\n",
       "      <td>Month-1</td>\n",
       "      <td>Region - A</td>\n",
       "      <td>Manager - A</td>\n",
       "      <td>132921</td>\n",
       "      <td>270390</td>\n",
       "    </tr>\n",
       "    <tr>\n",
       "      <th>1</th>\n",
       "      <td>Month-2</td>\n",
       "      <td>Region - A</td>\n",
       "      <td>Manager - C</td>\n",
       "      <td>149559</td>\n",
       "      <td>223334</td>\n",
       "    </tr>\n",
       "    <tr>\n",
       "      <th>2</th>\n",
       "      <td>Month-3</td>\n",
       "      <td>Region - B</td>\n",
       "      <td>Manager - A</td>\n",
       "      <td>146278</td>\n",
       "      <td>244243</td>\n",
       "    </tr>\n",
       "    <tr>\n",
       "      <th>3</th>\n",
       "      <td>Month-4</td>\n",
       "      <td>Region - B</td>\n",
       "      <td>Manager - B</td>\n",
       "      <td>152167</td>\n",
       "      <td>231808</td>\n",
       "    </tr>\n",
       "    <tr>\n",
       "      <th>4</th>\n",
       "      <td>Month-5</td>\n",
       "      <td>Region - C</td>\n",
       "      <td>Manager - B</td>\n",
       "      <td>159525</td>\n",
       "      <td>258402</td>\n",
       "    </tr>\n",
       "  </tbody>\n",
       "</table>\n",
       "</div>"
      ],
      "text/plain": [
       "     Month      Region      Manager  Sales_before_digital_add(in $)  \\\n",
       "0  Month-1  Region - A  Manager - A                          132921   \n",
       "1  Month-2  Region - A  Manager - C                          149559   \n",
       "2  Month-3  Region - B  Manager - A                          146278   \n",
       "3  Month-4  Region - B  Manager - B                          152167   \n",
       "4  Month-5  Region - C  Manager - B                          159525   \n",
       "\n",
       "   Sales_After_digital_add(in $)  \n",
       "0                         270390  \n",
       "1                         223334  \n",
       "2                         244243  \n",
       "3                         231808  \n",
       "4                         258402  "
      ]
     },
     "execution_count": 2,
     "metadata": {},
     "output_type": "execute_result"
    }
   ],
   "source": [
    "#Reading the dataset\n",
    "data=pd.read_csv('Sales_add.csv')\n",
    "data.head()"
   ]
  },
  {
   "cell_type": "code",
   "execution_count": 3,
   "id": "308b91a6",
   "metadata": {},
   "outputs": [
    {
     "data": {
      "text/plain": [
       "(22, 5)"
      ]
     },
     "execution_count": 3,
     "metadata": {},
     "output_type": "execute_result"
    }
   ],
   "source": [
    "#Chcking the total number of rows and columns in our dataset\n",
    "data.shape"
   ]
  },
  {
   "cell_type": "code",
   "execution_count": 4,
   "id": "a40949e4",
   "metadata": {},
   "outputs": [
    {
     "data": {
      "text/plain": [
       "Month                             0\n",
       "Region                            0\n",
       "Manager                           0\n",
       "Sales_before_digital_add(in $)    0\n",
       "Sales_After_digital_add(in $)     0\n",
       "dtype: int64"
      ]
     },
     "execution_count": 4,
     "metadata": {},
     "output_type": "execute_result"
    }
   ],
   "source": [
    "#Checking if any null values present or not\n",
    "data.isnull().sum()"
   ]
  },
  {
   "cell_type": "code",
   "execution_count": 5,
   "id": "98baae6b",
   "metadata": {},
   "outputs": [
    {
     "name": "stdout",
     "output_type": "stream",
     "text": [
      "<class 'pandas.core.frame.DataFrame'>\n",
      "RangeIndex: 22 entries, 0 to 21\n",
      "Data columns (total 5 columns):\n",
      " #   Column                          Non-Null Count  Dtype \n",
      "---  ------                          --------------  ----- \n",
      " 0   Month                           22 non-null     object\n",
      " 1   Region                          22 non-null     object\n",
      " 2   Manager                         22 non-null     object\n",
      " 3   Sales_before_digital_add(in $)  22 non-null     int64 \n",
      " 4   Sales_After_digital_add(in $)   22 non-null     int64 \n",
      "dtypes: int64(2), object(3)\n",
      "memory usage: 1008.0+ bytes\n"
     ]
    }
   ],
   "source": [
    "#Getting the details of the dataset using info()\n",
    "data.info()"
   ]
  },
  {
   "cell_type": "markdown",
   "id": "964b1332",
   "metadata": {},
   "source": [
    "# 1. The company wishes to clarify whether there is any increase in sales after stepping into digital marketing.\n"
   ]
  },
  {
   "cell_type": "code",
   "execution_count": 6,
   "id": "919a0351",
   "metadata": {},
   "outputs": [
    {
     "data": {
      "text/html": [
       "<div>\n",
       "<style scoped>\n",
       "    .dataframe tbody tr th:only-of-type {\n",
       "        vertical-align: middle;\n",
       "    }\n",
       "\n",
       "    .dataframe tbody tr th {\n",
       "        vertical-align: top;\n",
       "    }\n",
       "\n",
       "    .dataframe thead th {\n",
       "        text-align: right;\n",
       "    }\n",
       "</style>\n",
       "<table border=\"1\" class=\"dataframe\">\n",
       "  <thead>\n",
       "    <tr style=\"text-align: right;\">\n",
       "      <th></th>\n",
       "      <th>Sales_before_digital_add(in $)</th>\n",
       "      <th>Sales_After_digital_add(in $)</th>\n",
       "    </tr>\n",
       "  </thead>\n",
       "  <tbody>\n",
       "    <tr>\n",
       "      <th>count</th>\n",
       "      <td>22.000000</td>\n",
       "      <td>22.000000</td>\n",
       "    </tr>\n",
       "    <tr>\n",
       "      <th>mean</th>\n",
       "      <td>149239.954545</td>\n",
       "      <td>231123.727273</td>\n",
       "    </tr>\n",
       "    <tr>\n",
       "      <th>std</th>\n",
       "      <td>14844.042921</td>\n",
       "      <td>25556.777061</td>\n",
       "    </tr>\n",
       "    <tr>\n",
       "      <th>min</th>\n",
       "      <td>130263.000000</td>\n",
       "      <td>187305.000000</td>\n",
       "    </tr>\n",
       "    <tr>\n",
       "      <th>25%</th>\n",
       "      <td>138087.750000</td>\n",
       "      <td>214960.750000</td>\n",
       "    </tr>\n",
       "    <tr>\n",
       "      <th>50%</th>\n",
       "      <td>147444.000000</td>\n",
       "      <td>229986.500000</td>\n",
       "    </tr>\n",
       "    <tr>\n",
       "      <th>75%</th>\n",
       "      <td>157627.500000</td>\n",
       "      <td>250909.000000</td>\n",
       "    </tr>\n",
       "    <tr>\n",
       "      <th>max</th>\n",
       "      <td>178939.000000</td>\n",
       "      <td>276279.000000</td>\n",
       "    </tr>\n",
       "  </tbody>\n",
       "</table>\n",
       "</div>"
      ],
      "text/plain": [
       "       Sales_before_digital_add(in $)  Sales_After_digital_add(in $)\n",
       "count                       22.000000                      22.000000\n",
       "mean                    149239.954545                  231123.727273\n",
       "std                      14844.042921                   25556.777061\n",
       "min                     130263.000000                  187305.000000\n",
       "25%                     138087.750000                  214960.750000\n",
       "50%                     147444.000000                  229986.500000\n",
       "75%                     157627.500000                  250909.000000\n",
       "max                     178939.000000                  276279.000000"
      ]
     },
     "execution_count": 6,
     "metadata": {},
     "output_type": "execute_result"
    }
   ],
   "source": [
    "#Getting the statistical values for our dataset\n",
    "data.describe()"
   ]
  },
  {
   "cell_type": "code",
   "execution_count": 7,
   "id": "cd1e445a",
   "metadata": {},
   "outputs": [
    {
     "data": {
      "text/html": [
       "<div>\n",
       "<style scoped>\n",
       "    .dataframe tbody tr th:only-of-type {\n",
       "        vertical-align: middle;\n",
       "    }\n",
       "\n",
       "    .dataframe tbody tr th {\n",
       "        vertical-align: top;\n",
       "    }\n",
       "\n",
       "    .dataframe thead th {\n",
       "        text-align: right;\n",
       "    }\n",
       "</style>\n",
       "<table border=\"1\" class=\"dataframe\">\n",
       "  <thead>\n",
       "    <tr style=\"text-align: right;\">\n",
       "      <th></th>\n",
       "      <th>Region</th>\n",
       "      <th>Sales_before_digital_add(in $)</th>\n",
       "      <th>Sales_After_digital_add(in $)</th>\n",
       "    </tr>\n",
       "  </thead>\n",
       "  <tbody>\n",
       "    <tr>\n",
       "      <th>0</th>\n",
       "      <td>Region - A</td>\n",
       "      <td>1482049</td>\n",
       "      <td>2388531</td>\n",
       "    </tr>\n",
       "    <tr>\n",
       "      <th>1</th>\n",
       "      <td>Region - B</td>\n",
       "      <td>1053665</td>\n",
       "      <td>1601095</td>\n",
       "    </tr>\n",
       "    <tr>\n",
       "      <th>2</th>\n",
       "      <td>Region - C</td>\n",
       "      <td>747565</td>\n",
       "      <td>1095096</td>\n",
       "    </tr>\n",
       "  </tbody>\n",
       "</table>\n",
       "</div>"
      ],
      "text/plain": [
       "       Region  Sales_before_digital_add(in $)  Sales_After_digital_add(in $)\n",
       "0  Region - A                         1482049                        2388531\n",
       "1  Region - B                         1053665                        1601095\n",
       "2  Region - C                          747565                        1095096"
      ]
     },
     "execution_count": 7,
     "metadata": {},
     "output_type": "execute_result"
    }
   ],
   "source": [
    "#Sum of sales based on regions before and after stepping into digital marketing\n",
    "data1=data.groupby('Region',as_index=False).sum()\n",
    "data1"
   ]
  },
  {
   "cell_type": "code",
   "execution_count": 8,
   "id": "02ed7f59",
   "metadata": {},
   "outputs": [],
   "source": [
    "#We can use the mean and total sum of sales in each region from the above two tables to get an idea about the sales  . "
   ]
  },
  {
   "cell_type": "markdown",
   "id": "ff4ddca3",
   "metadata": {},
   "source": [
    "### HYPOTHESIS TESTING "
   ]
  },
  {
   "cell_type": "code",
   "execution_count": 9,
   "id": "d84356a0",
   "metadata": {},
   "outputs": [],
   "source": [
    "#Sample size is less than 30 in our data set so we are using t-test here."
   ]
  },
  {
   "cell_type": "markdown",
   "id": "bd287e56",
   "metadata": {},
   "source": [
    "Taking \"H0 : NULL HYPOTHESIS\" AND \"H1 : ALTERNATIVE HYPOTHESIS\""
   ]
  },
  {
   "cell_type": "markdown",
   "id": "b2f07883",
   "metadata": {},
   "source": [
    "### H0:There is no significant increase in sales after stepping into digital marketing\n"
   ]
  },
  {
   "cell_type": "markdown",
   "id": "8604f4f6",
   "metadata": {},
   "source": [
    "### H1:There is significant increase in sales after stepping into digital marketing"
   ]
  },
  {
   "cell_type": "code",
   "execution_count": 10,
   "id": "001249cc",
   "metadata": {},
   "outputs": [],
   "source": [
    "#Using paired sample t-test to find the P Value.\n",
    "#Doing t-test on two related samples of data."
   ]
  },
  {
   "cell_type": "code",
   "execution_count": 11,
   "id": "9bee91a5",
   "metadata": {},
   "outputs": [
    {
     "name": "stdout",
     "output_type": "stream",
     "text": [
      "6.336667004575778e-11\n"
     ]
    }
   ],
   "source": [
    "ttest,p_val=stat.ttest_rel(data['Sales_before_digital_add(in $)'],data['Sales_After_digital_add(in $)'])\n",
    "print(p_val)"
   ]
  },
  {
   "cell_type": "code",
   "execution_count": 12,
   "id": "29653dff",
   "metadata": {},
   "outputs": [],
   "source": [
    "#We take the sinificance value alpha = .05"
   ]
  },
  {
   "cell_type": "code",
   "execution_count": 13,
   "id": "ed25426a",
   "metadata": {},
   "outputs": [
    {
     "name": "stdout",
     "output_type": "stream",
     "text": [
      " Since P value 6.336667004575778e-11 is less than .05(alpha value), we can reject the null hypothesis\n"
     ]
    }
   ],
   "source": [
    "if p_val<0.05:\n",
    "    print(\" Since P value\",p_val,\"is less than .05(alpha value), we can reject the null hypothesis\")\n",
    "else:\n",
    "    print(\" Since P value\",p_val,\"is greater than .05(alpha value), we cant reject the null hypothesis\")"
   ]
  },
  {
   "cell_type": "markdown",
   "id": "c357cc45",
   "metadata": {},
   "source": [
    "### \"Here we rejected the  Null Hypothesis .So we can conclude that there is increase in sales after stepping into digital marketing\"."
   ]
  },
  {
   "cell_type": "markdown",
   "id": "6acd9612",
   "metadata": {},
   "source": [
    "# 2. The company needs to check whether there is any dependency between the features \"Region\" and \"Manager\"."
   ]
  },
  {
   "cell_type": "code",
   "execution_count": 14,
   "id": "e93d2c62",
   "metadata": {},
   "outputs": [
    {
     "data": {
      "text/plain": [
       "Region - A    10\n",
       "Region - B     7\n",
       "Region - C     5\n",
       "Name: Region, dtype: int64"
      ]
     },
     "execution_count": 14,
     "metadata": {},
     "output_type": "execute_result"
    }
   ],
   "source": [
    "#value_counts() function used for returning count of unique values \n",
    "data['Region'].value_counts()"
   ]
  },
  {
   "cell_type": "code",
   "execution_count": 15,
   "id": "16b80274",
   "metadata": {},
   "outputs": [
    {
     "data": {
      "text/plain": [
       "Manager - A    9\n",
       "Manager - B    7\n",
       "Manager - C    6\n",
       "Name: Manager, dtype: int64"
      ]
     },
     "execution_count": 15,
     "metadata": {},
     "output_type": "execute_result"
    }
   ],
   "source": [
    "data['Manager'].value_counts()"
   ]
  },
  {
   "cell_type": "markdown",
   "id": "972e2d89",
   "metadata": {},
   "source": [
    "Taking \"H0 : NULL HYPOTHESIS\" AND \"H1 : ALTERNATIVE HYPOTHESIS\""
   ]
  },
  {
   "cell_type": "markdown",
   "id": "245cfb9c",
   "metadata": {},
   "source": [
    "### H0: There is no dependancy between Region & Manager\n"
   ]
  },
  {
   "cell_type": "markdown",
   "id": "1b460b40",
   "metadata": {},
   "source": [
    "### H1: There is dependancy between Region & Manager"
   ]
  },
  {
   "cell_type": "code",
   "execution_count": 16,
   "id": "1bdf7d94",
   "metadata": {},
   "outputs": [
    {
     "data": {
      "text/html": [
       "<div>\n",
       "<style scoped>\n",
       "    .dataframe tbody tr th:only-of-type {\n",
       "        vertical-align: middle;\n",
       "    }\n",
       "\n",
       "    .dataframe tbody tr th {\n",
       "        vertical-align: top;\n",
       "    }\n",
       "\n",
       "    .dataframe thead th {\n",
       "        text-align: right;\n",
       "    }\n",
       "</style>\n",
       "<table border=\"1\" class=\"dataframe\">\n",
       "  <thead>\n",
       "    <tr style=\"text-align: right;\">\n",
       "      <th>Manager</th>\n",
       "      <th>Manager - A</th>\n",
       "      <th>Manager - B</th>\n",
       "      <th>Manager - C</th>\n",
       "    </tr>\n",
       "    <tr>\n",
       "      <th>Region</th>\n",
       "      <th></th>\n",
       "      <th></th>\n",
       "      <th></th>\n",
       "    </tr>\n",
       "  </thead>\n",
       "  <tbody>\n",
       "    <tr>\n",
       "      <th>Region - A</th>\n",
       "      <td>4</td>\n",
       "      <td>3</td>\n",
       "      <td>3</td>\n",
       "    </tr>\n",
       "    <tr>\n",
       "      <th>Region - B</th>\n",
       "      <td>4</td>\n",
       "      <td>1</td>\n",
       "      <td>2</td>\n",
       "    </tr>\n",
       "    <tr>\n",
       "      <th>Region - C</th>\n",
       "      <td>1</td>\n",
       "      <td>3</td>\n",
       "      <td>1</td>\n",
       "    </tr>\n",
       "  </tbody>\n",
       "</table>\n",
       "</div>"
      ],
      "text/plain": [
       "Manager     Manager - A  Manager - B  Manager - C\n",
       "Region                                           \n",
       "Region - A            4            3            3\n",
       "Region - B            4            1            2\n",
       "Region - C            1            3            1"
      ]
     },
     "execution_count": 16,
     "metadata": {},
     "output_type": "execute_result"
    }
   ],
   "source": [
    "#Contingency table between region and manager.\n",
    "pd.crosstab(data.Region, data.Manager)"
   ]
  },
  {
   "cell_type": "code",
   "execution_count": 17,
   "id": "46b96579",
   "metadata": {},
   "outputs": [],
   "source": [
    "#Importing chi2_contingency from scipy library\n",
    "from scipy.stats import chi2_contingency"
   ]
  },
  {
   "cell_type": "code",
   "execution_count": 18,
   "id": "ac3d179d",
   "metadata": {},
   "outputs": [],
   "source": [
    "#Finding the Chi-Square(chi_sq),p value (p_value) ,degree of freedom (df) and the expected cell counts (exp)\n",
    "test_stat,p_value,df,exp= chi2_contingency(pd.crosstab(data.Region, data.Manager))"
   ]
  },
  {
   "cell_type": "code",
   "execution_count": 19,
   "id": "0ccc60fb",
   "metadata": {},
   "outputs": [],
   "source": [
    "#printing Chi-Square(chi_sq),p value(p_value),degree of freedom(df) and expected cell counts(exp)"
   ]
  },
  {
   "cell_type": "code",
   "execution_count": 20,
   "id": "21636e36",
   "metadata": {},
   "outputs": [
    {
     "name": "stdout",
     "output_type": "stream",
     "text": [
      "3.050566893424036\n"
     ]
    }
   ],
   "source": [
    "print(test_stat)"
   ]
  },
  {
   "cell_type": "code",
   "execution_count": 21,
   "id": "7e6f87d7",
   "metadata": {},
   "outputs": [
    {
     "name": "stdout",
     "output_type": "stream",
     "text": [
      "0.5493991051158094\n"
     ]
    }
   ],
   "source": [
    "print(p_value)"
   ]
  },
  {
   "cell_type": "code",
   "execution_count": 22,
   "id": "36ed53c4",
   "metadata": {},
   "outputs": [
    {
     "name": "stdout",
     "output_type": "stream",
     "text": [
      "4\n"
     ]
    }
   ],
   "source": [
    "print(df)"
   ]
  },
  {
   "cell_type": "code",
   "execution_count": 23,
   "id": "90d552f4",
   "metadata": {},
   "outputs": [
    {
     "name": "stdout",
     "output_type": "stream",
     "text": [
      "[[4.09090909 3.18181818 2.72727273]\n",
      " [2.86363636 2.22727273 1.90909091]\n",
      " [2.04545455 1.59090909 1.36363636]]\n"
     ]
    }
   ],
   "source": [
    "print(exp)"
   ]
  },
  {
   "cell_type": "code",
   "execution_count": 24,
   "id": "61fbbeec",
   "metadata": {},
   "outputs": [],
   "source": [
    "#We take the sinificance value at alpha = .05"
   ]
  },
  {
   "cell_type": "code",
   "execution_count": 25,
   "id": "a2097068",
   "metadata": {},
   "outputs": [
    {
     "name": "stdout",
     "output_type": "stream",
     "text": [
      " Since P value 0.5493991051158094 is greater than .05(alpha value), we cant reject the null hypothesis\n"
     ]
    }
   ],
   "source": [
    "if p_value<0.05:\n",
    "    print(\" Since P value\",p_value,\"is less than .05(alpha value), we can reject the null hypothesis\")\n",
    "else:\n",
    "    print(\" Since P value\",p_value,\"is greater than .05(alpha value), we cant reject the null hypothesis\")"
   ]
  },
  {
   "cell_type": "markdown",
   "id": "0c3eee6b",
   "metadata": {},
   "source": [
    "#### Calculated P Value=0.5493991051158094 which is greater than the alpha value .05 so we accept the Null Hypothesis.we can conclude that there is no dependancy between region and manager, they are independant. Also we can consider that the calculated chi-square value (3.0505),which is less than the chi square table value 9.488( alpha value=0.05 with degrees of freedom=4 ),so we accept the null hypothesis."
   ]
  },
  {
   "cell_type": "code",
   "execution_count": null,
   "id": "6733e35d",
   "metadata": {},
   "outputs": [],
   "source": []
  }
 ],
 "metadata": {
  "kernelspec": {
   "display_name": "Python 3",
   "language": "python",
   "name": "python3"
  },
  "language_info": {
   "codemirror_mode": {
    "name": "ipython",
    "version": 3
   },
   "file_extension": ".py",
   "mimetype": "text/x-python",
   "name": "python",
   "nbconvert_exporter": "python",
   "pygments_lexer": "ipython3",
   "version": "3.8.8"
  }
 },
 "nbformat": 4,
 "nbformat_minor": 5
}
