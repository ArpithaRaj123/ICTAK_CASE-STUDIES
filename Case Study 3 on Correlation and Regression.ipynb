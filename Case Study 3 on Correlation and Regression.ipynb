{
 "cells": [
  {
   "cell_type": "markdown",
   "id": "6a746869",
   "metadata": {},
   "source": [
    "# Case Study on Correlation and Regression"
   ]
  },
  {
   "cell_type": "code",
   "execution_count": 1,
   "id": "a6a8e982",
   "metadata": {},
   "outputs": [],
   "source": [
    "#Importing python libraries\n",
    "import numpy as np\n",
    "import pandas as pd\n",
    "import matplotlib.pyplot as plt\n",
    "import seaborn as sns\n",
    "import warnings\n",
    "warnings.filterwarnings('ignore')"
   ]
  },
  {
   "cell_type": "code",
   "execution_count": 2,
   "id": "96d2e3a4",
   "metadata": {},
   "outputs": [],
   "source": [
    "#Reading dataset \n",
    "data=pd.read_csv('Add_sales_data_2018 .csv')"
   ]
  },
  {
   "cell_type": "code",
   "execution_count": 3,
   "id": "48d1c8a1",
   "metadata": {},
   "outputs": [
    {
     "data": {
      "text/html": [
       "<div>\n",
       "<style scoped>\n",
       "    .dataframe tbody tr th:only-of-type {\n",
       "        vertical-align: middle;\n",
       "    }\n",
       "\n",
       "    .dataframe tbody tr th {\n",
       "        vertical-align: top;\n",
       "    }\n",
       "\n",
       "    .dataframe thead th {\n",
       "        text-align: right;\n",
       "    }\n",
       "</style>\n",
       "<table border=\"1\" class=\"dataframe\">\n",
       "  <thead>\n",
       "    <tr style=\"text-align: right;\">\n",
       "      <th></th>\n",
       "      <th>Date</th>\n",
       "      <th>Add1(in Thousands)</th>\n",
       "      <th>Add2(in Thousands)</th>\n",
       "      <th>Add3(in Thousands)</th>\n",
       "      <th>Add4(in Thousands)</th>\n",
       "      <th>Add5(in Thousands)</th>\n",
       "      <th>Profit(in Thousands)</th>\n",
       "    </tr>\n",
       "  </thead>\n",
       "  <tbody>\n",
       "    <tr>\n",
       "      <th>0</th>\n",
       "      <td>08-10-2018</td>\n",
       "      <td>208.00</td>\n",
       "      <td>222.25</td>\n",
       "      <td>206.85</td>\n",
       "      <td>216.00</td>\n",
       "      <td>215.15</td>\n",
       "      <td>4093.065</td>\n",
       "    </tr>\n",
       "    <tr>\n",
       "      <th>1</th>\n",
       "      <td>05-10-2018</td>\n",
       "      <td>217.00</td>\n",
       "      <td>218.60</td>\n",
       "      <td>205.90</td>\n",
       "      <td>210.25</td>\n",
       "      <td>209.20</td>\n",
       "      <td>4042.448</td>\n",
       "    </tr>\n",
       "    <tr>\n",
       "      <th>2</th>\n",
       "      <td>04-10-2018</td>\n",
       "      <td>223.50</td>\n",
       "      <td>227.80</td>\n",
       "      <td>216.15</td>\n",
       "      <td>217.25</td>\n",
       "      <td>218.20</td>\n",
       "      <td>4213.819</td>\n",
       "    </tr>\n",
       "    <tr>\n",
       "      <th>3</th>\n",
       "      <td>03-10-2018</td>\n",
       "      <td>230.00</td>\n",
       "      <td>237.50</td>\n",
       "      <td>225.75</td>\n",
       "      <td>226.45</td>\n",
       "      <td>227.60</td>\n",
       "      <td>4391.665</td>\n",
       "    </tr>\n",
       "    <tr>\n",
       "      <th>4</th>\n",
       "      <td>01-10-2018</td>\n",
       "      <td>234.55</td>\n",
       "      <td>234.60</td>\n",
       "      <td>221.05</td>\n",
       "      <td>230.30</td>\n",
       "      <td>230.90</td>\n",
       "      <td>4350.683</td>\n",
       "    </tr>\n",
       "  </tbody>\n",
       "</table>\n",
       "</div>"
      ],
      "text/plain": [
       "         Date  Add1(in Thousands)  Add2(in Thousands)  Add3(in Thousands)  \\\n",
       "0  08-10-2018              208.00              222.25              206.85   \n",
       "1  05-10-2018              217.00              218.60              205.90   \n",
       "2  04-10-2018              223.50              227.80              216.15   \n",
       "3  03-10-2018              230.00              237.50              225.75   \n",
       "4  01-10-2018              234.55              234.60              221.05   \n",
       "\n",
       "   Add4(in Thousands)  Add5(in Thousands)  Profit(in Thousands)  \n",
       "0              216.00              215.15              4093.065  \n",
       "1              210.25              209.20              4042.448  \n",
       "2              217.25              218.20              4213.819  \n",
       "3              226.45              227.60              4391.665  \n",
       "4              230.30              230.90              4350.683  "
      ]
     },
     "execution_count": 3,
     "metadata": {},
     "output_type": "execute_result"
    }
   ],
   "source": [
    "data.head()"
   ]
  },
  {
   "cell_type": "code",
   "execution_count": 4,
   "id": "cc048c9a",
   "metadata": {},
   "outputs": [
    {
     "data": {
      "text/plain": [
       "(205, 7)"
      ]
     },
     "execution_count": 4,
     "metadata": {},
     "output_type": "execute_result"
    }
   ],
   "source": [
    "#Getting total number of rows and columns\n",
    "data.shape"
   ]
  },
  {
   "cell_type": "code",
   "execution_count": 5,
   "id": "76d66e63",
   "metadata": {},
   "outputs": [
    {
     "name": "stdout",
     "output_type": "stream",
     "text": [
      "<class 'pandas.core.frame.DataFrame'>\n",
      "RangeIndex: 205 entries, 0 to 204\n",
      "Data columns (total 7 columns):\n",
      " #   Column                Non-Null Count  Dtype  \n",
      "---  ------                --------------  -----  \n",
      " 0   Date                  205 non-null    object \n",
      " 1   Add1(in Thousands)    205 non-null    float64\n",
      " 2   Add2(in Thousands)    205 non-null    float64\n",
      " 3   Add3(in Thousands)    205 non-null    float64\n",
      " 4   Add4(in Thousands)    205 non-null    float64\n",
      " 5   Add5(in Thousands)    205 non-null    float64\n",
      " 6   Profit(in Thousands)  205 non-null    float64\n",
      "dtypes: float64(6), object(1)\n",
      "memory usage: 11.3+ KB\n"
     ]
    }
   ],
   "source": [
    "#Getting the info about the dataset\n",
    "data.info()"
   ]
  },
  {
   "cell_type": "code",
   "execution_count": 6,
   "id": "97a9dff2",
   "metadata": {},
   "outputs": [
    {
     "data": {
      "text/plain": [
       "Date                    0\n",
       "Add1(in Thousands)      0\n",
       "Add2(in Thousands)      0\n",
       "Add3(in Thousands)      0\n",
       "Add4(in Thousands)      0\n",
       "Add5(in Thousands)      0\n",
       "Profit(in Thousands)    0\n",
       "dtype: int64"
      ]
     },
     "execution_count": 6,
     "metadata": {},
     "output_type": "execute_result"
    }
   ],
   "source": [
    "#Checking if any null values present or not\n",
    "data.isnull().sum()"
   ]
  },
  {
   "cell_type": "code",
   "execution_count": 7,
   "id": "857d4e63",
   "metadata": {},
   "outputs": [
    {
     "data": {
      "text/plain": [
       "array([4093.065, 4042.448, 4213.819, 4391.665, 4350.683, 4404.686,\n",
       "       4418.709, 4470.775, 4425.005, 4446.441, 4411.775, 4435.571,\n",
       "       4464.11 , 4434.805, 4379.901, 4152.066, 4175.677, 4326.782,\n",
       "       4190.965, 4193.095, 4178.008, 4390.996, 4523.704, 4465.95 ,\n",
       "       4435.174, 4436.321, 4451.999, 4453.773, 4416.136, 4482.183,\n",
       "       4598.292, 4617.695, 4566.31 , 4513.6  , 4461.325, 4419.421,\n",
       "       4435.816, 4480.363, 4486.38 , 4506.279, 4486.996, 4453.205,\n",
       "       4432.864, 4672.391, 4648.627, 4606.34 , 4558.651, 4519.061,\n",
       "       4599.49 , 4643.716, 4548.11 , 4477.226, 4494.144, 4605.783,\n",
       "       4671.113, 4760.877, 4947.72 , 5071.736, 5133.766, 5190.814,\n",
       "       5145.131, 5088.455, 5234.487, 5250.775, 5239.06 , 5075.858,\n",
       "       5038.222, 5001.615, 5004.282, 5030.451, 4977.891, 4916.064,\n",
       "       4890.723, 4936.12 , 5113.337, 5163.693, 5225.14 , 5187.445,\n",
       "       5057.155, 5013.207, 5043.705, 5027.633, 5034.726, 4980.446,\n",
       "       4925.861, 4923.127, 5015.536, 5058.14 , 4937.03 , 4898.776,\n",
       "       4887.296, 4836.837, 4763.69 , 4705.198, 4676.653, 4623.793,\n",
       "       4647.356, 4648.834, 4569.293, 4772.52 , 5131.898, 5421.94 ,\n",
       "       5453.24 , 5498.553, 5518.561, 5511.42 , 5430.79 , 5452.28 ,\n",
       "       5580.775, 5577.15 , 5511.087, 5491.792, 5425.19 , 5373.275,\n",
       "       5378.379, 5397.739, 5395.217, 5359.346, 5318.1  , 5227.886,\n",
       "       5182.368, 5184.204, 5167.878, 5238.366, 5244.097, 5153.977,\n",
       "       5172.76 , 5188.139, 5185.639, 5140.372, 4922.845, 4968.03 ,\n",
       "       4907.56 , 4821.542, 4934.682, 4979.399, 4915.682, 5051.755,\n",
       "       5247.011, 5300.437, 5250.15 , 5245.324, 5163.322, 5134.657,\n",
       "       5111.806, 5108.626, 5250.788, 5175.051, 5190.758, 5177.61 ,\n",
       "       5216.436, 5146.949, 5065.652, 5019.997, 5017.503, 5078.636,\n",
       "       5137.534, 5263.935, 5312.74 , 5384.175, 5387.438, 5212.949,\n",
       "       5328.025, 5267.657, 4997.719, 5107.437, 5245.14 , 5465.277,\n",
       "       5616.791, 5730.999, 5728.804, 5792.175, 5789.791, 5805.521,\n",
       "       5866.196, 5784.54 , 5858.34 , 5910.98 , 6062.457, 6137.8  ,\n",
       "       6101.648, 5921.116, 5956.323, 5972.337, 5962.336, 5903.253,\n",
       "       5861.83 , 5890.012, 5880.541, 5938.474, 5917.925, 5780.799,\n",
       "       5767.839, 5745.806, 5717.838, 5667.25 , 5676.934, 5616.186,\n",
       "       5435.316, 5425.371, 5374.105, 5439.655, 5545.013, 5565.444,\n",
       "       5421.842])"
      ]
     },
     "execution_count": 7,
     "metadata": {},
     "output_type": "execute_result"
    }
   ],
   "source": [
    "#Checking how many different values in our target or dependent variable\n",
    "data['Profit(in Thousands)'].unique()"
   ]
  },
  {
   "cell_type": "code",
   "execution_count": 8,
   "id": "e518d7a8",
   "metadata": {},
   "outputs": [
    {
     "data": {
      "text/html": [
       "<div>\n",
       "<style scoped>\n",
       "    .dataframe tbody tr th:only-of-type {\n",
       "        vertical-align: middle;\n",
       "    }\n",
       "\n",
       "    .dataframe tbody tr th {\n",
       "        vertical-align: top;\n",
       "    }\n",
       "\n",
       "    .dataframe thead th {\n",
       "        text-align: right;\n",
       "    }\n",
       "</style>\n",
       "<table border=\"1\" class=\"dataframe\">\n",
       "  <thead>\n",
       "    <tr style=\"text-align: right;\">\n",
       "      <th></th>\n",
       "      <th>Add1(in Thousands)</th>\n",
       "      <th>Add2(in Thousands)</th>\n",
       "      <th>Add3(in Thousands)</th>\n",
       "      <th>Add4(in Thousands)</th>\n",
       "      <th>Add5(in Thousands)</th>\n",
       "      <th>Profit(in Thousands)</th>\n",
       "    </tr>\n",
       "  </thead>\n",
       "  <tbody>\n",
       "    <tr>\n",
       "      <th>count</th>\n",
       "      <td>205.000000</td>\n",
       "      <td>205.000000</td>\n",
       "      <td>205.000000</td>\n",
       "      <td>205.000000</td>\n",
       "      <td>205.000000</td>\n",
       "      <td>205.000000</td>\n",
       "    </tr>\n",
       "    <tr>\n",
       "      <th>mean</th>\n",
       "      <td>267.577561</td>\n",
       "      <td>271.722439</td>\n",
       "      <td>262.990732</td>\n",
       "      <td>267.223902</td>\n",
       "      <td>267.152683</td>\n",
       "      <td>5059.630234</td>\n",
       "    </tr>\n",
       "    <tr>\n",
       "      <th>std</th>\n",
       "      <td>26.219588</td>\n",
       "      <td>25.914939</td>\n",
       "      <td>26.126704</td>\n",
       "      <td>26.238832</td>\n",
       "      <td>26.215360</td>\n",
       "      <td>486.910414</td>\n",
       "    </tr>\n",
       "    <tr>\n",
       "      <th>min</th>\n",
       "      <td>208.000000</td>\n",
       "      <td>218.600000</td>\n",
       "      <td>205.900000</td>\n",
       "      <td>210.250000</td>\n",
       "      <td>209.200000</td>\n",
       "      <td>4042.448000</td>\n",
       "    </tr>\n",
       "    <tr>\n",
       "      <th>25%</th>\n",
       "      <td>244.000000</td>\n",
       "      <td>248.500000</td>\n",
       "      <td>240.300000</td>\n",
       "      <td>243.050000</td>\n",
       "      <td>243.000000</td>\n",
       "      <td>4617.695000</td>\n",
       "    </tr>\n",
       "    <tr>\n",
       "      <th>50%</th>\n",
       "      <td>269.700000</td>\n",
       "      <td>274.200000</td>\n",
       "      <td>263.250000</td>\n",
       "      <td>268.900000</td>\n",
       "      <td>268.350000</td>\n",
       "      <td>5088.455000</td>\n",
       "    </tr>\n",
       "    <tr>\n",
       "      <th>75%</th>\n",
       "      <td>284.400000</td>\n",
       "      <td>288.800000</td>\n",
       "      <td>280.900000</td>\n",
       "      <td>284.500000</td>\n",
       "      <td>284.450000</td>\n",
       "      <td>5387.438000</td>\n",
       "    </tr>\n",
       "    <tr>\n",
       "      <th>max</th>\n",
       "      <td>327.700000</td>\n",
       "      <td>328.750000</td>\n",
       "      <td>321.650000</td>\n",
       "      <td>325.950000</td>\n",
       "      <td>325.750000</td>\n",
       "      <td>6137.800000</td>\n",
       "    </tr>\n",
       "  </tbody>\n",
       "</table>\n",
       "</div>"
      ],
      "text/plain": [
       "       Add1(in Thousands)  Add2(in Thousands)  Add3(in Thousands)  \\\n",
       "count          205.000000          205.000000          205.000000   \n",
       "mean           267.577561          271.722439          262.990732   \n",
       "std             26.219588           25.914939           26.126704   \n",
       "min            208.000000          218.600000          205.900000   \n",
       "25%            244.000000          248.500000          240.300000   \n",
       "50%            269.700000          274.200000          263.250000   \n",
       "75%            284.400000          288.800000          280.900000   \n",
       "max            327.700000          328.750000          321.650000   \n",
       "\n",
       "       Add4(in Thousands)  Add5(in Thousands)  Profit(in Thousands)  \n",
       "count          205.000000          205.000000            205.000000  \n",
       "mean           267.223902          267.152683           5059.630234  \n",
       "std             26.238832           26.215360            486.910414  \n",
       "min            210.250000          209.200000           4042.448000  \n",
       "25%            243.050000          243.000000           4617.695000  \n",
       "50%            268.900000          268.350000           5088.455000  \n",
       "75%            284.500000          284.450000           5387.438000  \n",
       "max            325.950000          325.750000           6137.800000  "
      ]
     },
     "execution_count": 8,
     "metadata": {},
     "output_type": "execute_result"
    }
   ],
   "source": [
    "#Checking statistics values of the dataset\n",
    "data.describe()"
   ]
  },
  {
   "cell_type": "code",
   "execution_count": 9,
   "id": "7b0f9c42",
   "metadata": {},
   "outputs": [
    {
     "data": {
      "image/png": "[encoded data removed]",
      "text/plain": [
       "<Figure size 1440x1080 with 6 Axes>"
      ]
     },
     "metadata": {
      "needs_background": "light"
     },
     "output_type": "display_data"
    }
   ],
   "source": [
    "#Selecting variables to plot\n",
    "hist_graph=data.select_dtypes(include=['int32','int64','float'])\n",
    "#Plotting histogram\n",
    "hist_graph.hist(figsize=(20,15))\n",
    "plt.show()"
   ]
  },
  {
   "cell_type": "markdown",
   "id": "4e3607ac",
   "metadata": {},
   "source": [
    "# 1. First of all, check whether there is any relationship between the amount spent for advertising through five different companies and profitgenerated."
   ]
  },
  {
   "cell_type": "code",
   "execution_count": 10,
   "id": "9c6e87f9",
   "metadata": {},
   "outputs": [
    {
     "data": {
      "text/plain": [
       "<AxesSubplot:>"
      ]
     },
     "execution_count": 10,
     "metadata": {},
     "output_type": "execute_result"
    },
    {
     "data": {
      "image/png": "[encoded data removed]",
      "text/plain": [
       "<Figure size 864x576 with 2 Axes>"
      ]
     },
     "metadata": {
      "needs_background": "light"
     },
     "output_type": "display_data"
    }
   ],
   "source": [
    "#finding the correlation between the variables usinh heatmap\n",
    "corrmatrix=data.corr()\n",
    "plt.subplots(figsize=(12,8))\n",
    "sns.heatmap(corrmatrix,vmin=.9,vmax=1,annot=True,Linewidth=.2,cmap='BuPu')"
   ]
  },
  {
   "cell_type": "markdown",
   "id": "1c822af3",
   "metadata": {},
   "source": [
    "#### We can conclude from the above heatmap that there is a high positive correlation between the amount spent on advertising through five different companies and the profit generated."
   ]
  },
  {
   "cell_type": "markdown",
   "id": "2ce2255b",
   "metadata": {},
   "source": [
    "# 2. Build a regression model to predict the profit from the given data and comment your findings on it."
   ]
  },
  {
   "cell_type": "code",
   "execution_count": 11,
   "id": "3d34fe52",
   "metadata": {},
   "outputs": [
    {
     "data": {
      "text/plain": [
       "Index(['Date', 'Add1(in Thousands)', 'Add2(in Thousands)',\n",
       "       'Add3(in Thousands)', 'Add4(in Thousands)', 'Add5(in Thousands)',\n",
       "       'Profit(in Thousands)'],\n",
       "      dtype='object')"
      ]
     },
     "execution_count": 11,
     "metadata": {},
     "output_type": "execute_result"
    }
   ],
   "source": [
    "#Getting the column names\n",
    "data.columns"
   ]
  },
  {
   "cell_type": "code",
   "execution_count": 12,
   "id": "c5b80df7",
   "metadata": {},
   "outputs": [],
   "source": [
    "#Splitting the data to dependent and independent variables\n",
    "#Dependent variable is assigned to y and independent variable is assigned to x."
   ]
  },
  {
   "cell_type": "code",
   "execution_count": 13,
   "id": "3db4cbf6",
   "metadata": {},
   "outputs": [],
   "source": [
    "y=data['Profit(in Thousands)']"
   ]
  },
  {
   "cell_type": "code",
   "execution_count": 14,
   "id": "e27b90ac",
   "metadata": {},
   "outputs": [
    {
     "data": {
      "text/plain": [
       "(205,)"
      ]
     },
     "execution_count": 14,
     "metadata": {},
     "output_type": "execute_result"
    }
   ],
   "source": [
    "#Checking the dependent variables total number of rows and coloumns\n",
    "y.shape"
   ]
  },
  {
   "cell_type": "code",
   "execution_count": 15,
   "id": "6eed6097",
   "metadata": {},
   "outputs": [],
   "source": [
    "x=data.drop(['Date','Profit(in Thousands)'],axis=1)"
   ]
  },
  {
   "cell_type": "code",
   "execution_count": 16,
   "id": "0965d8b8",
   "metadata": {},
   "outputs": [
    {
     "data": {
      "text/plain": [
       "(205, 5)"
      ]
     },
     "execution_count": 16,
     "metadata": {},
     "output_type": "execute_result"
    }
   ],
   "source": [
    "#Checking the independent variables total number of rows and coloumns\n",
    "x.shape"
   ]
  },
  {
   "cell_type": "code",
   "execution_count": 17,
   "id": "f709d1d5",
   "metadata": {},
   "outputs": [],
   "source": [
    "#Splitting the data into train and test data\n",
    "from sklearn.model_selection import train_test_split\n",
    "x_train,x_test,y_train,y_test=train_test_split(x,y,random_state=42,test_size=0.25)"
   ]
  },
  {
   "cell_type": "markdown",
   "id": "44ed0031",
   "metadata": {},
   "source": [
    "### BUILDING LINEAR REGRESSION MODEL"
   ]
  },
  {
   "cell_type": "code",
   "execution_count": 18,
   "id": "be0ad79f",
   "metadata": {},
   "outputs": [],
   "source": [
    "from sklearn import linear_model\n",
    "lr=linear_model.LinearRegression()"
   ]
  },
  {
   "cell_type": "code",
   "execution_count": 19,
   "id": "96cef76e",
   "metadata": {},
   "outputs": [],
   "source": [
    "#Creating the model\n",
    "model=lr.fit(x_train,y_train)"
   ]
  },
  {
   "cell_type": "code",
   "execution_count": 20,
   "id": "87b5ba42",
   "metadata": {},
   "outputs": [],
   "source": [
    "#Predicting"
   ]
  },
  {
   "cell_type": "code",
   "execution_count": 21,
   "id": "8b3375b6",
   "metadata": {},
   "outputs": [],
   "source": [
    "predictions=model.predict(x_test)"
   ]
  },
  {
   "cell_type": "code",
   "execution_count": 22,
   "id": "1d37bf4b",
   "metadata": {},
   "outputs": [
    {
     "name": "stdout",
     "output_type": "stream",
     "text": [
      "15     4152.066\n",
      "9      4446.441\n",
      "100    5131.898\n",
      "132    4907.560\n",
      "68     5004.282\n",
      "95     4623.793\n",
      "159    5384.175\n",
      "162    5328.025\n",
      "147    5175.051\n",
      "182    5956.323\n",
      "191    5780.799\n",
      "164    4997.719\n",
      "65     5075.858\n",
      "175    5784.540\n",
      "73     4936.120\n",
      "152    5065.652\n",
      "18     4190.965\n",
      "82     5034.726\n",
      "86     5015.536\n",
      "143    5134.657\n",
      "60     5145.131\n",
      "101    5421.940\n",
      "98     4569.293\n",
      "30     4598.292\n",
      "25     4436.321\n",
      "16     4175.677\n",
      "168    5616.791\n",
      "195    5667.250\n",
      "97     4648.834\n",
      "194    5717.838\n",
      "67     5001.615\n",
      "120    5182.368\n",
      "154    5017.503\n",
      "202    5545.013\n",
      "79     5013.207\n",
      "69     5030.451\n",
      "145    5108.626\n",
      "55     4760.877\n",
      "45     4606.340\n",
      "84     4925.861\n",
      "146    5250.788\n",
      "66     5038.222\n",
      "111    5491.792\n",
      "153    5019.997\n",
      "96     4647.356\n",
      "38     4486.380\n",
      "24     4435.174\n",
      "139    5300.437\n",
      "112    5425.190\n",
      "29     4482.183\n",
      "19     4193.095\n",
      "178    6062.457\n",
      "Name: Profit(in Thousands), dtype: float64\n"
     ]
    }
   ],
   "source": [
    "print(y_test)"
   ]
  },
  {
   "cell_type": "code",
   "execution_count": 23,
   "id": "d98681d5",
   "metadata": {
    "scrolled": true
   },
   "outputs": [
    {
     "name": "stdout",
     "output_type": "stream",
     "text": [
      "[4152.066 4446.441 5131.898 4907.56  5004.282 4623.793 5384.175 5328.025\n",
      " 5175.051 5956.323 5780.799 4997.719 5075.858 5784.54  4936.12  5065.652\n",
      " 4190.965 5034.726 5015.536 5134.657 5145.131 5421.94  4569.293 4598.292\n",
      " 4436.321 4175.677 5616.791 5667.25  4648.834 5717.838 5001.615 5182.368\n",
      " 5017.503 5545.013 5013.207 5030.451 5108.626 4760.877 4606.34  4925.861\n",
      " 5250.788 5038.222 5491.792 5019.997 4647.356 4486.38  4435.174 5300.437\n",
      " 5425.19  4482.183 4193.095 6062.457]\n"
     ]
    }
   ],
   "source": [
    "print(predictions)"
   ]
  },
  {
   "cell_type": "code",
   "execution_count": 24,
   "id": "cf460548",
   "metadata": {},
   "outputs": [],
   "source": [
    "#Compairing predictions and actual data to find Mean Squared Error(MSE) to find the efficiency of our model"
   ]
  },
  {
   "cell_type": "code",
   "execution_count": 25,
   "id": "ce36e725",
   "metadata": {},
   "outputs": [],
   "source": [
    "from sklearn.metrics import mean_squared_error"
   ]
  },
  {
   "cell_type": "code",
   "execution_count": 26,
   "id": "832cc15a",
   "metadata": {},
   "outputs": [
    {
     "name": "stdout",
     "output_type": "stream",
     "text": [
      "MSE is : 1.1930489604130207e-24\n"
     ]
    }
   ],
   "source": [
    "mse=mean_squared_error(y_test,predictions)\n",
    "print('MSE is :',mse)"
   ]
  },
  {
   "cell_type": "code",
   "execution_count": 27,
   "id": "bf6099a9",
   "metadata": {},
   "outputs": [],
   "source": [
    "#We can check RMSE(Root Mean Square Error) "
   ]
  },
  {
   "cell_type": "code",
   "execution_count": 28,
   "id": "087c9b1e",
   "metadata": {},
   "outputs": [
    {
     "name": "stdout",
     "output_type": "stream",
     "text": [
      "1.0922678061780548e-12\n"
     ]
    }
   ],
   "source": [
    "import math\n",
    "mse=mean_squared_error(y_test,predictions)\n",
    "rmse=math.sqrt(mse)\n",
    "print(rmse)"
   ]
  },
  {
   "cell_type": "markdown",
   "id": "180ebdbe",
   "metadata": {},
   "source": [
    "MSE and RMSE close to zero (if we round off the values it will be equal to zero) so we can say that the model is efficient."
   ]
  },
  {
   "cell_type": "code",
   "execution_count": 29,
   "id": "aaf024f6",
   "metadata": {},
   "outputs": [],
   "source": [
    "#We can compare the MSE and R-square values for checking the efficiency of our model."
   ]
  },
  {
   "cell_type": "code",
   "execution_count": 30,
   "id": "6ecde5dd",
   "metadata": {},
   "outputs": [
    {
     "name": "stdout",
     "output_type": "stream",
     "text": [
      "R-Square value is : 1.0\n"
     ]
    }
   ],
   "source": [
    "#Calculating R-square value or  coefficient of determination\n",
    "from sklearn.metrics import r2_score\n",
    "print('R-Square value is :',r2_score(y_test,predictions))"
   ]
  },
  {
   "cell_type": "code",
   "execution_count": 31,
   "id": "91dcc28d",
   "metadata": {},
   "outputs": [
    {
     "data": {
      "text/plain": [
       "99.99999999999999"
      ]
     },
     "execution_count": 31,
     "metadata": {},
     "output_type": "execute_result"
    }
   ],
   "source": [
    "#Checking efficiency in persentage\n",
    "(sum(predictions)/sum(y_test))*100"
   ]
  },
  {
   "cell_type": "markdown",
   "id": "eb86a615",
   "metadata": {},
   "source": [
    "#### Mean Squared Error is  1.1930489604130207e-24 which is close to zero(if we round off it will be equal to zero) and the R-Square(Coefficient of determination) value is 1  .An R2 of 1 indicates that the regression predictions perfectly fit the data.So we can conclude our model is efficient."
   ]
  },
  {
   "cell_type": "code",
   "execution_count": 32,
   "id": "d5169633",
   "metadata": {},
   "outputs": [
    {
     "data": {
      "text/plain": [
       "array([ 1.  , 12.38,  3.5 ,  1.  ,  0.9 ])"
      ]
     },
     "execution_count": 32,
     "metadata": {},
     "output_type": "execute_result"
    }
   ],
   "source": [
    "#coefficients of model features/independent variables\n",
    "model.coef_"
   ]
  },
  {
   "cell_type": "code",
   "execution_count": 33,
   "id": "48fe5063",
   "metadata": {},
   "outputs": [
    {
     "data": {
      "text/plain": [
       "3.637978807091713e-12"
      ]
     },
     "execution_count": 33,
     "metadata": {},
     "output_type": "execute_result"
    }
   ],
   "source": [
    "#intercept of model\n",
    "model.intercept_"
   ]
  },
  {
   "cell_type": "markdown",
   "id": "a5667eaf",
   "metadata": {},
   "source": [
    "# 3. Predict the profit generated by the company, if they wish to spend the following amount for advertisement."
   ]
  },
  {
   "cell_type": "markdown",
   "id": "29c34cb0",
   "metadata": {},
   "source": [
    "Add1(in Thousands):290,\n",
    "Add2(in Thousands):312,\n",
    "Add3(in Thousands):309,\n",
    "Add4(in Thousands):298,\n",
    "Add5(in Thousands):320"
   ]
  },
  {
   "cell_type": "code",
   "execution_count": 34,
   "id": "f8f88928",
   "metadata": {},
   "outputs": [],
   "source": [
    "new_adv=[[290,312,309,298,320]]"
   ]
  },
  {
   "cell_type": "code",
   "execution_count": 35,
   "id": "a217142d",
   "metadata": {},
   "outputs": [],
   "source": [
    "new_profit=model.predict(new_adv)"
   ]
  },
  {
   "cell_type": "code",
   "execution_count": 36,
   "id": "0031c010",
   "metadata": {},
   "outputs": [
    {
     "name": "stdout",
     "output_type": "stream",
     "text": [
      "Based on the amount spent on advertising, the profit generated is [5820.06] in Thousands.\n"
     ]
    }
   ],
   "source": [
    "print('Based on the amount spent on advertising, the profit generated is',new_profit,'in Thousands.')"
   ]
  },
  {
   "cell_type": "code",
   "execution_count": null,
   "id": "a9ce988e",
   "metadata": {},
   "outputs": [],
   "source": []
  }
 ],
 "metadata": {
  "kernelspec": {
   "display_name": "Python 3",
   "language": "python",
   "name": "python3"
  },
  "language_info": {
   "codemirror_mode": {
    "name": "ipython",
    "version": 3
   },
   "file_extension": ".py",
   "mimetype": "text/x-python",
   "name": "python",
   "nbconvert_exporter": "python",
   "pygments_lexer": "ipython3",
   "version": "3.8.8"
  }
 },
 "nbformat": 4,
 "nbformat_minor": 5
}
